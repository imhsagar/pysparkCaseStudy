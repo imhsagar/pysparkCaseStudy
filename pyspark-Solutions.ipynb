{
 "cells": [
  {
   "cell_type": "code",
   "execution_count": 56,
   "metadata": {},
   "outputs": [],
   "source": [
    "from pyspark.sql import SparkSession"
   ]
  },
  {
   "cell_type": "code",
   "execution_count": 57,
   "metadata": {},
   "outputs": [],
   "source": [
    "spark = SparkSession.builder.appName(\"testSparkApp\").getOrCreate()"
   ]
  },
  {
   "cell_type": "code",
   "execution_count": 58,
   "metadata": {},
   "outputs": [],
   "source": [
    "artistFilePath= \"D:\\\\Datasets\\\\famousPainting\\\\artist.csv\"\n",
    "artistDf = spark.read.csv(artistFilePath, header=True, inferSchema=True)"
   ]
  },
  {
   "cell_type": "code",
   "execution_count": 59,
   "metadata": {},
   "outputs": [],
   "source": [
    "canvasSizePath = \"D:\\\\Datasets\\\\famousPainting\\\\canvas_size.csv\"\n",
    "canvasSizeDf = spark.read.csv(canvasSizePath, header=True, inferSchema=True)\n",
    "imageLinkPath = \"D:\\\\Datasets\\\\famousPainting\\\\image_link.csv\"\n",
    "imageLinkDf = spark.read.csv(imageLinkPath, header=True, inferSchema=True)\n",
    "museumPath = \"D:\\\\Datasets\\\\famousPainting\\\\museum.csv\"\n",
    "museumDf = spark.read.csv(museumPath, header=True, inferSchema=True)\n",
    "museumHoursPath = \"D:\\\\Datasets\\\\famousPainting\\\\museum_hours.csv\"\n",
    "museumHoursDf = spark.read.csv(museumHoursPath, header=True, inferSchema=True)\n",
    "productSizePath = \"D:\\\\Datasets\\\\famousPainting\\\\product_size.csv\"\n",
    "productSizeDf = spark.read.csv(productSizePath, header=True, inferSchema=True)\n",
    "subjectPath = \"D:\\\\Datasets\\\\famousPainting\\\\subject.csv\"\n",
    "subjectDf = spark.read.csv(subjectPath, header=True, inferSchema=True)\n",
    "workPath = \"D:\\\\Datasets\\\\famousPainting\\\\work.csv\"\n",
    "workDf = spark.read.csv(workPath, header=True, inferSchema=True)"
   ]
  },
  {
   "cell_type": "code",
   "execution_count": 60,
   "metadata": {},
   "outputs": [
    {
     "name": "stdout",
     "output_type": "stream",
     "text": [
      "+-------+--------------------+---------+-------+---------+\n",
      "|work_id|                name|artist_id|  style|museum_id|\n",
      "+-------+--------------------+---------+-------+---------+\n",
      "| 160228|Still Life with F...|      615|Baroque|       43|\n",
      "| 160236|Still Life with F...|      615|Baroque|       43|\n",
      "| 160244|Still Life with F...|      615|Baroque|       43|\n",
      "| 160252|Still Life with F...|      615|Baroque|       43|\n",
      "| 160260|Still Life with F...|      615|Baroque|       43|\n",
      "| 160268|The Overturned Bo...|      615|Baroque|       43|\n",
      "| 125752|Arabian Horses at...|      757|Baroque|     NULL|\n",
      "| 125818|Count Halm on His...|      757|Baroque|     NULL|\n",
      "|  23448| Horses at the Porch|      757|Baroque|       34|\n",
      "| 125763|Napoleon Before t...|      757|Baroque|     NULL|\n",
      "| 125774|Peasants Resting ...|      757|Baroque|     NULL|\n",
      "| 125785|Portrait Oberleut...|      757|Baroque|     NULL|\n",
      "| 125796|The Rescue of Cou...|      757|Baroque|     NULL|\n",
      "| 125807|     The Stable Yard|      757|Baroque|     NULL|\n",
      "|  24532|Jacob A. Stamler ...|      563|   NULL|     NULL|\n",
      "| 124470| Kaleda off Le Havre|      563|   NULL|     NULL|\n",
      "| 124479|R. Bell &amp; Co....|      563|   NULL|     NULL|\n",
      "| 124488|Steam Sailing Shi...|      563|   NULL|     NULL|\n",
      "| 124497|The American Ship...|      563|   NULL|     NULL|\n",
      "| 124506|The Atalanta Runn...|      563|   NULL|     NULL|\n",
      "+-------+--------------------+---------+-------+---------+\n",
      "only showing top 20 rows\n",
      "\n"
     ]
    }
   ],
   "source": [
    "workDf.show()"
   ]
  },
  {
   "cell_type": "code",
   "execution_count": 61,
   "metadata": {},
   "outputs": [],
   "source": [
    "#Paintings which are not displayed on any museums\n",
    "paintingsNotInMuseumDf = workDf.filter(workDf[\"museum_id\"].isNull())"
   ]
  },
  {
   "cell_type": "code",
   "execution_count": 62,
   "metadata": {},
   "outputs": [
    {
     "name": "stdout",
     "output_type": "stream",
     "text": [
      "+---------+----+-------+----+-----+------+-------+-----+---+\n",
      "|museum_id|name|address|city|state|postal|country|phone|url|\n",
      "+---------+----+-------+----+-----+------+-------+-----+---+\n",
      "+---------+----+-------+----+-----+------+-------+-----+---+\n",
      "\n"
     ]
    }
   ],
   "source": [
    "#Museums without any paintings\n",
    "joinCol = \"museum_id\"\n",
    "joinedDf = museumDf.join(workDf, workDf[joinCol] == museumDf[joinCol], \"leftanti\").show()"
   ]
  },
  {
   "cell_type": "code",
   "execution_count": 45,
   "metadata": {},
   "outputs": [
    {
     "name": "stdout",
     "output_type": "stream",
     "text": [
      "+-------+-------+----------+-------------+\n",
      "|work_id|size_id|sale_price|regular_price|\n",
      "+-------+-------+----------+-------------+\n",
      "+-------+-------+----------+-------------+\n",
      "\n"
     ]
    }
   ],
   "source": [
    "#paintings where sale price is higher than regular price\n",
    "productSizeDf.filter(productSizeDf[\"sale_price\"]>productSizeDf[\"regular_price\"]).show()"
   ]
  },
  {
   "cell_type": "code",
   "execution_count": 46,
   "metadata": {},
   "outputs": [
    {
     "name": "stdout",
     "output_type": "stream",
     "text": [
      "+-------+-------+----------+-------------+\n",
      "|work_id|size_id|sale_price|regular_price|\n",
      "+-------+-------+----------+-------------+\n",
      "| 160228|     24|        85|           85|\n",
      "| 160228|     30|        95|           95|\n",
      "| 160236|     24|        85|           85|\n",
      "| 160236|     30|        95|           95|\n",
      "| 160244|     24|        85|           85|\n",
      "| 160244|     30|        95|           95|\n",
      "| 160252|     24|        85|           85|\n",
      "| 160252|     30|        95|           95|\n",
      "| 160260|     24|        75|           75|\n",
      "| 160260|     30|        95|           95|\n",
      "| 160268|     24|        85|           85|\n",
      "| 160268|     30|        95|           95|\n",
      "| 125752|     30|        95|           95|\n",
      "| 125752|     24|        85|           85|\n",
      "| 125752|   3024|       305|          535|\n",
      "| 125752|   3226|       325|          575|\n",
      "| 125752|   3629|       375|          675|\n",
      "| 125752|   4030|       405|          735|\n",
      "| 125752|   4836|       495|          915|\n",
      "| 125752|   6048|       675|         1275|\n",
      "+-------+-------+----------+-------------+\n",
      "only showing top 20 rows\n",
      "\n"
     ]
    }
   ],
   "source": [
    "#paintings where sale price is half than the regular price\n",
    "productSizeDf.filter(productSizeDf[\"sale_price\"]>productSizeDf[\"regular_price\"]/2).show()\n"
   ]
  },
  {
   "cell_type": "code",
   "execution_count": 47,
   "metadata": {},
   "outputs": [
    {
     "name": "stdout",
     "output_type": "stream",
     "text": [
      "+--------------------+----------+\n",
      "|               canva|sale_price|\n",
      "+--------------------+----------+\n",
      "|\"48\"\" x 96\"\"(122 ...|      1115|\n",
      "+--------------------+----------+\n",
      "\n"
     ]
    }
   ],
   "source": [
    "#Which canva size costs the most\n",
    "from pyspark.sql.window import Window\n",
    "from pyspark.sql import functions as F\n",
    "\n",
    "windowSpec = Window.orderBy(F.desc(\"sale_price\"))\n",
    "productSizeRanked = productSizeDf.withColumn(\"rnk\", F.rank().over(windowSpec))\n",
    "mostExpensiveCanva = productSizeRanked.filter(\"rnk == 1\")\\\n",
    "                        .join(canvasSizeDf, canvasSizeDf[\"size_id\"].cast(\"string\") == productSizeRanked[\"size_id\"], \"inner\")\\\n",
    "                        .select(canvasSizeDf[\"label\"].alias(\"canva\"), productSizeRanked[\"sale_price\"])\n",
    "mostExpensiveCanva.show()"
   ]
  },
  {
   "cell_type": "code",
   "execution_count": 48,
   "metadata": {},
   "outputs": [],
   "source": [
    "#Delete duplicate records from work, product_size, subject and image_link tables\n",
    "workDfNoDuplicates = workDf.dropDuplicates(subset=[\"work_id\"])\n",
    "productSizeDfNoDuplicates = productSizeDf.dropDuplicates(subset=[\"work_id\", \"size_id\"])\n",
    "subjectDfNoDuplicates = subjectDf.dropDuplicates(subset=[\"work_id\", \"subject\"])\n",
    "imageLinkDfNoDuplicates = imageLinkDf.dropDuplicates(subset=[\"work_id\"])"
   ]
  },
  {
   "cell_type": "code",
   "execution_count": 49,
   "metadata": {},
   "outputs": [
    {
     "name": "stdout",
     "output_type": "stream",
     "text": [
      "+---------+--------------------+--------------------+---------------+---------------+------+-----------+----------------+--------------------+\n",
      "|museum_id|                name|             address|           city|          state|postal|    country|           phone|                 url|\n",
      "+---------+--------------------+--------------------+---------------+---------------+------+-----------+----------------+--------------------+\n",
      "|       34|The State Hermita...|       Palace Square|              2|Sankt-Peterburg|190000|     Russia| 7 812 710-90-79|https://www.hermi...|\n",
      "|       36|     Museum Folkwang|      Museumsplatz 1|          45128|          Essen|  NULL|    Germany|  49 201 8845000|https://www.museu...|\n",
      "|       37|  Museum of Grenoble|  5 Pl. de Lavalette|          38000|       Grenoble|  NULL|     France|33 4 76 63 44 44|https://www.musee...|\n",
      "|       38|Musée des Beaux-A...|40 Pl. Saint-Core...|          29000|        Quimper|  NULL|     France|33 2 98 95 45 20|https://www.mbaq....|\n",
      "|       40|     Musée du Louvre|       Rue de Rivoli|          75001|          Paris|  NULL|     France|33 1 40 20 50 50|https://www.louvr...|\n",
      "|       74|Kröller-Müller Mu...|       Houtkampweg 6|6731 AW Otterlo|           NULL|  NULL|Netherlands| +31 318 591 241|https://krollermu...|\n",
      "+---------+--------------------+--------------------+---------------+---------------+------+-----------+----------------+--------------------+\n",
      "\n"
     ]
    }
   ],
   "source": [
    "#Identify museum with invalid city information\n",
    "from pyspark.sql.functions import col\n",
    "invalidMuseumCity = museumDf.filter(col(\"city\").rlike(\"^[0-9]\"))\n",
    "invalidMuseumCity.show()"
   ]
  },
  {
   "cell_type": "code",
   "execution_count": 50,
   "metadata": {},
   "outputs": [
    {
     "name": "stdout",
     "output_type": "stream",
     "text": [
      "+-------------------+-------------------+---+\n",
      "|            subject|number_of_paintings|rnk|\n",
      "+-------------------+-------------------+---+\n",
      "|          Portraits|               1070|  1|\n",
      "|Abstract/Modern Art|                575|  2|\n",
      "|               Nude|                525|  3|\n",
      "|      Landscape Art|                495|  4|\n",
      "|       Rivers/Lakes|                480|  5|\n",
      "|            Flowers|                457|  6|\n",
      "|         Still-Life|                395|  7|\n",
      "|          Seascapes|                326|  8|\n",
      "|Marine Art/Maritime|                268|  9|\n",
      "|             Horses|                265| 10|\n",
      "+-------------------+-------------------+---+\n",
      "\n"
     ]
    }
   ],
   "source": [
    "#fetch top 10 most famous painting subject\n",
    "joinedDf = workDf.join(subjectDf, subjectDf[\"work_id\"] == workDf[\"work_id\"])\n",
    "groupedDf = joinedDf.groupBy(\"subject\").agg(F.count(\"*\").alias(\"number_of_paintings\"))\n",
    "windowSpec = Window.orderBy(F.desc(\"number_of_paintings\"))\n",
    "rankedDf = groupedDf.withColumn(\"rnk\", F.rank().over(windowSpec))\n",
    "top10SubjectDf = rankedDf.filter(\"rnk<11\")\n",
    "top10SubjectDf.show()"
   ]
  },
  {
   "cell_type": "code",
   "execution_count": 51,
   "metadata": {},
   "outputs": [
    {
     "name": "stdout",
     "output_type": "stream",
     "text": [
      "Number of the museums open on both sunday and monday is :  28\n",
      "+--------------------+------------+--------+--------------+\n",
      "|                name|        city|   state|       country|\n",
      "+--------------------+------------+--------+--------------+\n",
      "| Norton Simon Museum|    Pasadena|      CA|           USA|\n",
      "|National Gallery ...|   Melbourne|Victoria|     Australia|\n",
      "|Smithsonian Ameri...|  Washington|      DC|           USA|\n",
      "|Philadelphia Muse...|Philadelphia|      PA|           USA|\n",
      "|     Musée du Louvre|       75001|   Paris|        France|\n",
      "|    The Tate Gallery|      London| England|            UK|\n",
      "|National Maritime...|      London|SE10 9NF|United Kingdom|\n",
      "|Los Angeles Count...| Los Angeles|      CA|           USA|\n",
      "|The Metropolitan ...|    New York|      NY|           USA|\n",
      "|    National Gallery|      London| England|            UK|\n",
      "|  Museum of Grenoble|       38000|Grenoble|        France|\n",
      "|National Gallery ...|  Washington|      DC|           USA|\n",
      "|The Art Institute...|     Chicago|      IL|           USA|\n",
      "|The Museum of Mod...|    New York|      NY|           USA|\n",
      "|   Courtauld Gallery|       Stran|  London|            UK|\n",
      "|Nelson-Atkins Mus...| Kansas City|      MO|           USA|\n",
      "|Solomon R. Guggen...|    New York|      NY|           USA|\n",
      "|The Barnes Founda...|Philadelphia|      PA|           USA|\n",
      "|Museum of Fine Ar...|      Boston|      MA|           USA|\n",
      "|         Army Museum|       Paris|    NULL|        France|\n",
      "+--------------------+------------+--------+--------------+\n",
      "only showing top 20 rows\n",
      "\n"
     ]
    }
   ],
   "source": [
    "#Identify the museums which are open on both Sunday and Monday. Display museum name, city.\n",
    "joinedDf = museumHoursDf.alias('mh').join(museumDf.alias('m'), F.col('m.museum_id') == F.col('mh.museum_id'))\n",
    "sundayOpenMuseumDf = joinedDf.filter((F.col('mh.day') == 'Sunday'))\n",
    "#mondayOpenMuseumDf = joinedDf.filter((F.col('mh.day') == 'Monday'))\n",
    "mondayOpenMuseumDf = joinedDf.alias(\"joined\").join(museumHoursDf.alias('mh2'), ['museum_id', 'day']).filter((F.col('mh2.day') == 'Monday'))\n",
    "resultDf = sundayOpenMuseumDf.join(mondayOpenMuseumDf, ['museum_id']).select('m.name', 'm.city', 'm.state', 'm.country').distinct()\n",
    "print(\"Number of the museums open on both sunday and monday is : \", resultDf.count())\n",
    "resultDf.show()"
   ]
  },
  {
   "cell_type": "code",
   "execution_count": 52,
   "metadata": {},
   "outputs": [
    {
     "name": "stdout",
     "output_type": "stream",
     "text": [
      "total number of museum open every day :  17\n"
     ]
    }
   ],
   "source": [
    "#How many museums are open every day\n",
    "daysCountMuseumDf = museumHoursDf.groupBy(\"museum_id\").agg(F.countDistinct(\"day\").alias(\"days_open\"))\n",
    "allDaysOpenMuseumDf = daysCountMuseumDf.filter(\"days_open = 7\")\n",
    "print(\"total number of museum open every day : \", allDaysOpenMuseumDf.count())"
   ]
  },
  {
   "cell_type": "code",
   "execution_count": 53,
   "metadata": {},
   "outputs": [
    {
     "name": "stdout",
     "output_type": "stream",
     "text": [
      "+--------------------+------------+-----------+-------------------+\n",
      "|                name|        city|    country|number_of_paintings|\n",
      "+--------------------+------------+-----------+-------------------+\n",
      "|   George Washington|    New York|        USA|                  6|\n",
      "|       Self-Portrait|   Amsterdam|Netherlands|                  6|\n",
      "| Portrait of a Woman|   Cleveland|        USA|                  5|\n",
      "| Landscape (Paysage)|Philadelphia|        USA|                  5|\n",
      "|The Virgin and Child|      London|         UK|                  3|\n",
      "| Portrait of a Woman|    New York|        USA|                  3|\n",
      "|Street of L'Hermi...|  Washington|        USA|                  3|\n",
      "|   Portrait of a Man|    New York|        USA|                  3|\n",
      "|Portrait of a You...|      London|         UK|                  3|\n",
      "|       Self-Portrait|       75001|     France|                  3|\n",
      "+--------------------+------------+-----------+-------------------+\n",
      "\n"
     ]
    }
   ],
   "source": [
    "#Which are the top 5 most popular museum? (Popularity is defined based on most no of paintings in a museum)\n",
    "joinedDf = workDf.join(museumDf.withColumnRenamed(\"museum_id\", \"mid\").withColumnRenamed(\"name\", \"museum_name\"), workDf[\"museum_id\"] == F.col(\"mid\"))\n",
    "countPerMuseumDf = joinedDf.groupBy(\"museum_id\", \"name\", \"city\", \"country\").agg(F.count(\"*\").alias(\"number_of_paintings\"))\n",
    "windowSpec = Window.orderBy(F.desc(\"number_of_paintings\"))\n",
    "rankedDf = countPerMuseumDf.withColumn(\"rnk\", F.rank().over(windowSpec))\n",
    "top5MuseumsDf = rankedDf.filter(\"rnk < 6\").select(\"name\", \"city\", \"country\", \"number_of_paintings\")\n",
    "top5MuseumsDf.show()"
   ]
  },
  {
   "cell_type": "code",
   "execution_count": 54,
   "metadata": {},
   "outputs": [
    {
     "data": {
      "text/plain": [
       "[Row(artist_id=500, Number_of_paintings=469),\n",
       " Row(artist_id=550, Number_of_paintings=378),\n",
       " Row(artist_id=677, Number_of_paintings=308),\n",
       " Row(artist_id=649, Number_of_paintings=253),\n",
       " Row(artist_id=559, Number_of_paintings=233)]"
      ]
     },
     "execution_count": 54,
     "metadata": {},
     "output_type": "execute_result"
    }
   ],
   "source": [
    "#Who are the top 5 most popular artist? (based on number of paitings) \n",
    "joinedDf = workDf.join(artistDf.withColumnRenamed(\"artist_id\", \"id\"), workDf[\"artist_id\"]==F.col(\"id\"))\n",
    "countPerArtistDf = joinedDf.groupBy(\"artist_id\").agg(F.count(\"*\").alias(\"Number_of_paintings\"))\n",
    "countPerArtistDf.sort(\"Number_of_paintings\", ascending=[False]).take(5)"
   ]
  },
  {
   "cell_type": "code",
   "execution_count": 55,
   "metadata": {},
   "outputs": [
    {
     "name": "stdout",
     "output_type": "stream",
     "text": [
      "+--------------------+---+-------------------+\n",
      "|               label|rnk|number_of_paintings|\n",
      "+--------------------+---+-------------------+\n",
      "|\"36\"\" x 48\"\"(91 c...|  1|               4647|\n",
      "|\"30\"\" x 40\"\"(76 c...|  1|               4647|\n",
      "|\"29\"\" x 36\"\"(74 c...|  2|               4622|\n",
      "|\"48\"\" x 60\"\"(122 ...|  3|               4550|\n",
      "+--------------------+---+-------------------+\n",
      "\n"
     ]
    }
   ],
   "source": [
    "#Display the 3 least popular canva sizes\n",
    "joinedDfIntermediate = workDf.join(productSizeDf.withColumnRenamed(\"work_id\", \"ps_work_id\"), F.col(\"work_id\") == F.col(\"ps_work_id\")).join(canvasSizeDf.withColumnRenamed(\"size_id\", \"cs_size_id\"), F.col(\"size_id\") == F.col(\"cs_size_id\"))\n",
    "countPerSize = joinedDfIntermediate.groupBy(\"cs_size_id\", \"label\").agg(F.count(\"*\").alias(\"number_of_paintings\"))\n",
    "rankedDf = countPerSize.withColumn(\"rnk\", F.dense_rank().over(Window.orderBy(F.desc(\"number_of_paintings\"))))\n",
    "rankedDf.filter(\"rnk<4\").select(\"label\", \"rnk\", \"number_of_paintings\").show()\n"
   ]
  },
  {
   "cell_type": "code",
   "execution_count": 112,
   "metadata": {},
   "outputs": [
    {
     "name": "stdout",
     "output_type": "stream",
     "text": [
      "+---------+---------+-------------------+-------------------+\n",
      "|museum_id|      day|               open|              close|\n",
      "+---------+---------+-------------------+-------------------+\n",
      "|       30|   Sunday|1970-01-01 10:30:00|1970-01-01 10:30:00|\n",
      "|       30|   Monday|1970-01-01 10:30:00|1970-01-01 10:30:00|\n",
      "|       30|  Tuesday|1970-01-01 10:30:00|1970-01-01 10:30:00|\n",
      "|       30|Wednesday|1970-01-01 10:30:00|1970-01-01 10:30:00|\n",
      "|       30|  Thusday|1970-01-01 10:30:00|1970-01-01 10:30:00|\n",
      "|       30|   Friday|1970-01-01 10:30:00|1970-01-01 10:30:00|\n",
      "|       30| Saturday|1970-01-01 10:30:00|1970-01-01 10:30:00|\n",
      "|       31|   Sunday|1970-01-01 11:00:00|1970-01-01 11:00:00|\n",
      "|       31|   Monday|1970-01-01 11:00:00|1970-01-01 11:00:00|\n",
      "|       31|  Tuesday|1970-01-01 11:00:00|1970-01-01 11:00:00|\n",
      "|       31|Wednesday|1970-01-01 11:00:00|1970-01-01 11:00:00|\n",
      "|       31|  Thusday|1970-01-01 11:00:00|1970-01-01 11:00:00|\n",
      "|       31|   Friday|1970-01-01 11:00:00|1970-01-01 11:00:00|\n",
      "|       31| Saturday|1970-01-01 11:00:00|1970-01-01 11:00:00|\n",
      "|       32|   Sunday|1970-01-01 10:00:00|1970-01-01 10:00:00|\n",
      "|       32|   Monday|1970-01-01 10:00:00|1970-01-01 10:00:00|\n",
      "|       32|  Tuesday|1970-01-01 10:00:00|1970-01-01 10:00:00|\n",
      "|       32|Wednesday|1970-01-01 10:00:00|1970-01-01 10:00:00|\n",
      "|       32|  Thusday|1970-01-01 10:00:00|1970-01-01 10:00:00|\n",
      "|       32|   Friday|1970-01-01 10:00:00|1970-01-01 10:00:00|\n",
      "+---------+---------+-------------------+-------------------+\n",
      "only showing top 20 rows\n",
      "\n"
     ]
    }
   ],
   "source": [
    "#Which museum is open for the longest during a day. Display museum name, state and hours open and which day\n",
    "def format_time_udf(time_string):\n",
    "    hours, minutes, period = time_string.split(\":\")\n",
    "    return f\"{hours}:{minutes} {period}\"\n",
    "format_time = F.udf(format_time_udf)\n",
    "updatedMuseumHoursDf = museumHoursDf.withColumn( \"open\", format_time(\"open\")).withColumn(\"open\", F.to_timestamp(\"open\", \"h:mm a\")).withColumn( \"close\", format_time(\"close\")).withColumn(\"close\", F.to_timestamp(\"open\", \"h:mm p\"))\n",
    "windowSpec = Window.orderBy(F.desc(\"duration\"))\n",
    "resultDf = museumHoursDf.join(museumDf, \"museum_id\").withColumn(\"duration\", F.col(\"close\").cast(\"long\")-F.col(\"open\").cast(\"long\"))\n",
    "updatedMuseumHoursDf.show()"
   ]
  },
  {
   "cell_type": "code",
   "execution_count": null,
   "metadata": {},
   "outputs": [],
   "source": []
  }
 ],
 "metadata": {
  "kernelspec": {
   "display_name": "Python 3",
   "language": "python",
   "name": "python3"
  },
  "language_info": {
   "codemirror_mode": {
    "name": "ipython",
    "version": 3
   },
   "file_extension": ".py",
   "mimetype": "text/x-python",
   "name": "python",
   "nbconvert_exporter": "python",
   "pygments_lexer": "ipython3",
   "version": "3.11.8"
  }
 },
 "nbformat": 4,
 "nbformat_minor": 2
}
